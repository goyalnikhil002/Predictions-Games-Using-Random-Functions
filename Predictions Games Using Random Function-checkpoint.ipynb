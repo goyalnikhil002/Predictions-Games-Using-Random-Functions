{
 "cells": [
  {
   "cell_type": "markdown",
   "id": "adfa7171",
   "metadata": {},
   "source": [
    "# Dice Rolling Game "
   ]
  },
  {
   "cell_type": "code",
   "execution_count": 1,
   "id": "9f1de6b8",
   "metadata": {},
   "outputs": [
    {
     "name": "stdout",
     "output_type": "stream",
     "text": [
      "Welcome to the Dice Number Prediction Game!\n",
      "I will roll a dice, and you have to guess the number.\n",
      "Enter your guess (1-6): 1\n",
      "Rolling the dice...\n",
      "The dice rolled: 6\n",
      "Oops! Your guess is incorrect.\n",
      "Do you want to play again? (yes/no): no\n",
      "Thank you for playing!\n"
     ]
    }
   ],
   "source": [
    "import random\n",
    "\n",
    "def roll_dice():\n",
    "    # Simulate rolling a six-sided dice\n",
    "    return random.randint(1, 6)\n",
    "\n",
    "def play_game():\n",
    "    print(\"Welcome to the Dice Number Prediction Game!\")\n",
    "    print(\"I will roll a dice, and you have to guess the number.\")\n",
    "\n",
    "    while True:\n",
    "        target_number = roll_dice()\n",
    "\n",
    "        while True:\n",
    "            try:\n",
    "                user_guess = int(input(\"Enter your guess (1-6): \"))\n",
    "                if user_guess < 1 or user_guess > 6:\n",
    "                    print(\"Invalid guess! Please enter a number between 1 and 6.\")\n",
    "                    continue\n",
    "                break\n",
    "            except ValueError:\n",
    "                print(\"Invalid guess! Please enter a number between 1 and 6.\")\n",
    "\n",
    "        print(\"Rolling the dice...\")\n",
    "        rolled_number = roll_dice()\n",
    "        print(\"The dice rolled:\", rolled_number)\n",
    "\n",
    "        if rolled_number == user_guess:\n",
    "            print(\"Congratulations! Your guess is correct.\")\n",
    "        else:\n",
    "            print(\"Oops! Your guess is incorrect.\")\n",
    "\n",
    "        play_again = input(\"Do you want to play again? (yes/no): \")\n",
    "        if play_again.lower() != \"yes\":\n",
    "            break\n",
    "\n",
    "    print(\"Thank you for playing!\")\n",
    "\n",
    "play_game()\n"
   ]
  },
  {
   "cell_type": "markdown",
   "id": "9658ff46",
   "metadata": {},
   "source": [
    "# Head Tail Prediction Game "
   ]
  },
  {
   "cell_type": "code",
   "execution_count": null,
   "id": "161a2923",
   "metadata": {},
   "outputs": [
    {
     "name": "stdout",
     "output_type": "stream",
     "text": [
      "Welcome to the Head-Tail Prediction Game!\n",
      "I will flip a coin, and you have to predict heads or tails.\n",
      "Enter your guess (heads/tails): tails\n",
      "Flipping the coin...\n",
      "The coin landed on: heads\n",
      "Oops! Your prediction is incorrect.\n",
      "Do you want to play again? (yes/no): yes\n",
      "Enter your guess (heads/tails): heads\n",
      "Flipping the coin...\n",
      "The coin landed on: heads\n",
      "Congratulations! Your prediction is correct.\n",
      "Do you want to play again? (yes/no): yes\n",
      "Enter your guess (heads/tails): heads\n",
      "Flipping the coin...\n",
      "The coin landed on: heads\n",
      "Congratulations! Your prediction is correct.\n",
      "Do you want to play again? (yes/no): yes\n",
      "Enter your guess (heads/tails): tails\n",
      "Flipping the coin...\n",
      "The coin landed on: tails\n",
      "Congratulations! Your prediction is correct.\n"
     ]
    }
   ],
   "source": [
    "import random\n",
    "\n",
    "def flip_coin():\n",
    "    # Simulate flipping a coin\n",
    "    return random.choice([\"heads\", \"tails\"])\n",
    "\n",
    "def play_game():\n",
    "    print(\"Welcome to the Head-Tail Prediction Game!\")\n",
    "    print(\"I will flip a coin, and you have to predict heads or tails.\")\n",
    "\n",
    "    while True:\n",
    "        target_outcome = flip_coin()\n",
    "\n",
    "        while True:\n",
    "            user_guess = input(\"Enter your guess (heads/tails): \").lower()\n",
    "            if user_guess != \"heads\" and user_guess != \"tails\":\n",
    "                print(\"Invalid guess! Please enter 'heads' or 'tails'.\")\n",
    "                continue\n",
    "            break\n",
    "\n",
    "        print(\"Flipping the coin...\")\n",
    "        flipped_outcome = flip_coin()\n",
    "        print(\"The coin landed on:\", flipped_outcome)\n",
    "\n",
    "        if flipped_outcome == user_guess:\n",
    "            print(\"Congratulations! Your prediction is correct.\")\n",
    "        else:\n",
    "            print(\"Oops! Your prediction is incorrect.\")\n",
    "\n",
    "        play_again = input(\"Do you want to play again? (yes/no): \")\n",
    "        if play_again.lower() != \"yes\":\n",
    "            break\n",
    "\n",
    "    print(\"Thank you for playing!\")\n",
    "\n",
    "play_game()\n"
   ]
  },
  {
   "cell_type": "code",
   "execution_count": null,
   "id": "72208eaf",
   "metadata": {},
   "outputs": [],
   "source": []
  }
 ],
 "metadata": {
  "kernelspec": {
   "display_name": "Python 3 (ipykernel)",
   "language": "python",
   "name": "python3"
  },
  "language_info": {
   "codemirror_mode": {
    "name": "ipython",
    "version": 3
   },
   "file_extension": ".py",
   "mimetype": "text/x-python",
   "name": "python",
   "nbconvert_exporter": "python",
   "pygments_lexer": "ipython3",
   "version": "3.10.9"
  }
 },
 "nbformat": 4,
 "nbformat_minor": 5
}
